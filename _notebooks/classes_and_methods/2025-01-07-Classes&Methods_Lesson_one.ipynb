{
 "cells": [
  {
   "cell_type": "code",
   "execution_count": null,
   "metadata": {
    "vscode": {
     "languageId": "yaml"
    }
   },
   "outputs": [],
   "source": [
    "---\n",
    "layout: post\n",
    "title: Lesson One - Methods \n",
    "description:  First lesson for classes and methods.\n",
    "type: issues \n",
    "categories: [CSSE JavaScript Fundementals]\n",
    "permalink : https://mchopiee.github.io/Yin-and-Yang/2025/01/07/Lesson_one_IPYNB_2_.html\n",
    "comments: true\n",
    "---"
   ]
  },
  {
   "cell_type": "markdown",
   "metadata": {},
   "source": [
    "## Lesson 1- Methods\n",
    "By Nico Orozco"
   ]
  },
  {
   "cell_type": "markdown",
   "metadata": {},
   "source": [
    "\n",
    "### What are Methods?\n",
    "Methods are the operation completed in a code that give your objects a fucnction. In JavaScrpit code, methods are used for actions such as manipulating data, peforming task, and defining other code oppertaions. The benefits of using methods is being able to reuse the fucntions and the methods are very modular. Another benefit of using methods is that it will give a more efficent purpose to the DOM (Direct Object Model) which is very important for updating your webpage.\n",
    "\n",
    "### 1. Manipulating the Data\n",
    " \n",
    "There are two different ways to manipulate your data in JavaScript:\n",
    "#### ARRAYS & STRINGS\n",
    "\n",
    "Array methods are used to change how the array of data in the code will act, for example:\n"
   ]
  },
  {
   "cell_type": "code",
   "execution_count": 2,
   "metadata": {
    "vscode": {
     "languageId": "javascript"
    }
   },
   "outputs": [
    {
     "data": {
      "application/javascript": "arr = ['Mozzrella', 'provolone', 'cheddar'];\narr.push('MontereyJack');\n\nconsole.log(arr); ['Mozzrella', 'provolone', 'cheddar', 'MontereyJack']\n",
      "text/plain": [
       "<IPython.core.display.Javascript object>"
      ]
     },
     "metadata": {},
     "output_type": "display_data"
    }
   ],
   "source": [
    "%%js\n",
    "arr = ['Mozzrella', 'provolone', 'cheddar'];\n",
    "arr.push('MontereyJack');\n",
    "\n",
    "console.log(arr); ['Mozzrella', 'provolone', 'cheddar', 'MontereyJack'] // The array should add MontereyJack into the list"
   ]
  },
  {
   "cell_type": "markdown",
   "metadata": {},
   "source": [
    "In this example the ``arr.push('MontereyJack')`` added our MontereyJack to the array list of other items that we originally had. \n",
    "\n",
    "#### These are the list of Methods one would use in an array while coding in JavaScript:\n",
    "\n",
    "- ``push()`` – Adds an element to the end of an array.\n",
    "- ``pop()`` – Removes the last element from an array.\n",
    "- ``shift()`` – Removes the first element from an array.\n",
    "- ``unshift()`` – Adds an element to the beginning of an array.\n",
    "- ``sort()`` – Sorts the elements of an array in ascending order.\n",
    "- ``reverse()`` – Reverses the order of the elements in an array.\n",
    "____________________________________________________________________________________________________________________________________"
   ]
  },
  {
   "cell_type": "markdown",
   "metadata": {},
   "source": [
    "String Methods are used to change how the string will work such as the length and format. "
   ]
  },
  {
   "cell_type": "code",
   "execution_count": 3,
   "metadata": {
    "vscode": {
     "languageId": "javascript"
    }
   },
   "outputs": [
    {
     "data": {
      "application/javascript": "let str = 'I like chocolate milk';\nlet length = str.length;\n\nconsole.log(length); // 21\n",
      "text/plain": [
       "<IPython.core.display.Javascript object>"
      ]
     },
     "metadata": {},
     "output_type": "display_data"
    }
   ],
   "source": [
    "%%js\n",
    "let str = 'I like chocolate milk';\n",
    "let length = str.length;\n",
    "\n",
    "console.log(length); // The length should be 21 in the console"
   ]
  },
  {
   "cell_type": "markdown",
   "metadata": {},
   "source": [
    "In this the string methods is used to find out how many characters are in the string of the sentance using the \n",
    "``lenght()`` method \n",
    "\n",
    "#### These are the list of Methods one would use in a string while coding in JavaScript:\n",
    "\n",
    "- ``length()`` – Returns the length of a string.\n",
    "- ``indexOf()`` – Returns the index of a specified character in a string.\n",
    "- ``charAt()`` – Returns the character at a specified index in a string.\n",
    "- ``substring()`` – Returns a substring of a specified string.\n",
    "- ``toUpperCase()`` – Converts a string to uppercase.\n",
    "- ``toLowerCase()`` – Converts a string to lowercase.\n",
    "- ``trim()`` – Removes leading and trailing whitespace from a string."
   ]
  },
  {
   "cell_type": "markdown",
   "metadata": {},
   "source": [
    "### 2. Object Methods\n",
    "\n",
    "Object methods are different from other methods because the way they change the data is a little different in the way it manipulates the data. Object Methods are used to manipulate the objects that you have in your data. "
   ]
  },
  {
   "cell_type": "code",
   "execution_count": 4,
   "metadata": {
    "vscode": {
     "languageId": "javascript"
    }
   },
   "outputs": [
    {
     "data": {
      "application/javascript": "let obj = {\n    name: 'Tomato'\n  };\n  \n  let hasName = obj.hasOwnProperty('name');\n  \n  console.log(hasName); // true\n",
      "text/plain": [
       "<IPython.core.display.Javascript object>"
      ]
     },
     "metadata": {},
     "output_type": "display_data"
    }
   ],
   "source": [
    "%%js \n",
    "let obj = {\n",
    "    name: 'Tomato'\n",
    "  };\n",
    "  \n",
    "  let hasName = obj.hasOwnProperty('name');\n",
    "  \n",
    "  console.log(hasName); // true"
   ]
  },
  {
   "cell_type": "markdown",
   "metadata": {},
   "source": [
    "In this example, we used ``hasOwnProperty`` method to check if our object has its own name. Since our code had a name the result was true.\n",
    "\n",
    "#### These are the list of Object Methods that are used in JavaScpipt:\n",
    "\n",
    "- ``hasOwnProperty()`` – Returns a boolean value indicating whether an object has a specified property.\n",
    "- ``keys()`` – Returns an array of the keys of an object.\n",
    "- ``values()`` – Returns an array of the values of an object.\n",
    "- ``entries()`` – Returns an array of the [key, value] pairs of an object."
   ]
  },
  {
   "cell_type": "markdown",
   "metadata": {},
   "source": [
    "### 3. Constructing in JavaScript\n",
    "\n",
    "Methods are also used to make and consturct words in your classes (which you will learn in the next lessson). These can be used to customize your data with in the classes. For example:"
   ]
  },
  {
   "cell_type": "code",
   "execution_count": 6,
   "metadata": {
    "vscode": {
     "languageId": "javascript"
    }
   },
   "outputs": [
    {
     "data": {
      "application/javascript": "class Items {\n    constructor(food, year) {\n      this.food = food;\n      this.year = year;\n    }\n  \n    // A method of the class\n    greet() {\n      console.log(`There are ${this.food} and the expiration year is ${this.year}.`);\n    }\n  }\n  \n  // Creating an instance of the class\n  const Item1 = new Item('Frosted Flakes', 2025);\n  Item1.greet(); // Output: There are Frosted Flakes and the expiration year is 2025\n  \n",
      "text/plain": [
       "<IPython.core.display.Javascript object>"
      ]
     },
     "metadata": {},
     "output_type": "display_data"
    }
   ],
   "source": [
    "%%js\n",
    "class Items {\n",
    "    constructor(food, year) {\n",
    "      this.food = food;\n",
    "      this.year = year;\n",
    "    }\n",
    "  \n",
    "    // A method of the class\n",
    "    greet() {\n",
    "      console.log(`There are ${this.food} and the expiration year is ${this.year}.`);\n",
    "    }\n",
    "  }\n",
    "  \n",
    "  // Creating an instance of the class\n",
    "  const Item1 = new Item('Frosted Flakes', 2025);\n",
    "  Item1.greet(); // Output: There are Frosted Flakes and the expiration year is 2025\n",
    "  "
   ]
  },
  {
   "cell_type": "markdown",
   "metadata": {},
   "source": [
    "In this example we created an ``Item`` that creates a sentance of when the expiration date is. Within our class we constructed a customizable sentance with our code. \n",
    "\n",
    "<i>In the next lesson you will be learning how the Classes in code are related to our methods that we used<i>"
   ]
  }
 ],
 "metadata": {
  "kernelspec": {
   "display_name": "Python 3",
   "language": "python",
   "name": "python3"
  },
  "language_info": {
   "codemirror_mode": {
    "name": "ipython",
    "version": 3
   },
   "file_extension": ".py",
   "mimetype": "text/x-python",
   "name": "python",
   "nbconvert_exporter": "python",
   "pygments_lexer": "ipython3",
   "version": "3.9.6"
  }
 },
 "nbformat": 4,
 "nbformat_minor": 2
}
