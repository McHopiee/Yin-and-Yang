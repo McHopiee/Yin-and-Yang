{
 "cells": [
  {
   "cell_type": "markdown",
   "metadata": {},
   "source": [
    "---\n",
    "layout: post\n",
    "title: Homework\n",
    "description:  Homework for classes and methods lessons.\n",
    "type: issues \n",
    "categories: [CSSE JavaScript Fundementals]\n",
    "permalink : https://mchopiee.github.io/Yin-and-Yang/2025/01/07/Homework_IPYNB_2_.html\n",
    "comments: true\n",
    "---"
   ]
  },
  {
   "cell_type": "markdown",
   "metadata": {},
   "source": [
    "## Homework "
   ]
  },
  {
   "cell_type": "markdown",
   "metadata": {},
   "source": [
    "# JavaScript Classes and Methods - Interactive Homework\n",
    "In this notebook, you will learn about classes and methods in JavaScript. After the lesson, complete the tasks by editing the code cells.\n",
    "\n",
    "### What are Classes and Methods?\n",
    "- **Class**: A blueprint for creating objects with properties and methods.\n",
    "- **Method**: A function inside a class that defines an object's behavior.\n",
    "\n"
   ]
  },
  {
   "cell_type": "markdown",
   "metadata": {},
   "source": [
    "## Example: Class for food\n",
    "\n",
    "Below is an example of a JavaScript class for creating different foods. The class has:\n",
    "1. A **constructor** to initialize properties (brand and model).\n",
    "2. Three **methods** to define behaviors.\n",
    "\n",
    " this will be used to be an example that can be easily referenced if you get stuck.\n"
   ]
  },
  {
   "cell_type": "code",
   "execution_count": 25,
   "metadata": {
    "vscode": {
     "languageId": "javascript"
    }
   },
   "outputs": [
    {
     "data": {
      "application/javascript": "// Example: A Class for a fridge\nclass Fridge {\n  constructor(food, drink, connector) {\n    this.food = food; // Property\n    this.drink = drink; // Property\n    this.connector = connector; // Property - makes creating sentences easier\n  }\n\n  // Method to display fridge contents\n  displayInfo() {\n    console.log(`In the fridge, there is ${this.food} ${this.connector} ${this.drink}.`);\n  }\n\n  // Method to form a sentence using the properties\n  start() {\n    console.log(`${this.food} ${this.connector} ${this.drink}. IS THAT ENOUGH FOR YOU?`);\n  }\n}\n\n// Create an instance of the class\nconst myFridge = new Fridge(\"Milk\", \"Cookies\", \"and\");\n\n// Call the methods\nmyFridge.displayInfo(); // Outputs: In the fridge, there is Milk and Cookies.\nmyFridge.start();       // Outputs: Milk and Cookies. How do you like that?\n",
      "text/plain": [
       "<IPython.core.display.Javascript object>"
      ]
     },
     "metadata": {},
     "output_type": "display_data"
    }
   ],
   "source": [
    "%%js\n",
    "// Example: A Class for a fridge\n",
    "class Fridge {\n",
    "  constructor(food, drink, connector) {\n",
    "    this.food = food; // Property\n",
    "    this.drink = drink; // Property\n",
    "    this.connector = connector; // Property - makes creating sentences easier\n",
    "  }\n",
    "\n",
    "  // Method to display fridge contents\n",
    "  displayInfo() {\n",
    "    console.log(`In the fridge, there is ${this.food} ${this.connector} ${this.drink}.`);\n",
    "  }\n",
    "\n",
    "  // Method to form a sentence using the properties\n",
    "  start() {\n",
    "    console.log(`${this.food} ${this.connector} ${this.drink}. IS THAT ENOUGH FOR YOU?`);\n",
    "  }\n",
    "}\n",
    "\n",
    "// Create an instance of the class\n",
    "const myFridge = new Fridge(\"Milk\", \"Cookies\", \"and\");\n",
    "\n",
    "// Call the methods\n",
    "myFridge.displayInfo(); // Outputs: In the fridge, there is Milk and Cookies.\n",
    "myFridge.start();       // Outputs: Milk and Cookies. How do you like that?\n"
   ]
  },
  {
   "cell_type": "markdown",
   "metadata": {},
   "source": [
    "## Fridge mini game\n",
    "\n",
    "In the code cell below i would like for you to create a fun fridge mini game where you are looking for a good midnight snack in the dark and you pul out a random food item good or bad.\n",
    "\n",
    "You should be able to complete this Homework activity within 15-20 minutes assuming you fully understand the content presented in our lesson. Alhtough, i do understand that some people may get stuck and need extra time to complete the homework. I think classes and methods are a really good thing to have on a large scale project. Although you could make the game below work with different methoods. Please do not use `chat gpt` I worked hard making this."
   ]
  },
  {
   "cell_type": "markdown",
   "metadata": {},
   "source": [
    "# What to Do\n",
    "\n",
    "I want you to look through the code and complete the missing pieces and write new code lines to make the game funtion. \n",
    "\n",
    "this is basically a `gambling simulator` but with food.\n",
    "\n",
    "I have porvided \"hints\" in the code.\n",
    "\n",
    "### if you want a challenge dont read the <span style=\"color: green;\">GREEN</span>\n",
    "the green next to code it the real hint if you look at the // above there is description of what you need to do\n",
    "\n",
    "starting from a little above the bottom at the fill in the blank or top is the easiest the `middle is the hardest`.\n",
    "\n"
   ]
  },
  {
   "cell_type": "markdown",
   "metadata": {},
   "source": [
    "## Creating a Class\n",
    "I want you to create a class that you will be able to grap from later in the code you can try to set it up without hits"
   ]
  },
  {
   "cell_type": "markdown",
   "metadata": {},
   "source": []
  },
  {
   "cell_type": "markdown",
   "metadata": {},
   "source": [
    "## Grab item\n",
    "I want you to Create a grab item function that will reference the class to randomly pick a food item\n"
   ]
  },
  {
   "cell_type": "code",
   "execution_count": null,
   "metadata": {
    "vscode": {
     "languageId": "javascript"
    }
   },
   "outputs": [],
   "source": [
    "%%js\n",
    "grabItem() {\n",
    "    const randomIndex = Math.floor(Math.random() * this.fridgeItems.length); //\n",
    "    return this.fridgeItems[randomIndex]; //"
   ]
  },
  {
   "cell_type": "markdown",
   "metadata": {},
   "source": [
    "## With hints here"
   ]
  },
  {
   "cell_type": "code",
   "execution_count": null,
   "metadata": {
    "vscode": {
     "languageId": "javascript"
    }
   },
   "outputs": [
    {
     "data": {
      "application/javascript": "// Fridge Mini-Game: Enhanced with scores and quality feedback\n\n//place class + constructor here\nclass FridgeGame {\n  constructor() {\n    // Array of items in the fridge with their scores\n    this.fridgeItems = [ //Write in ten items found in a fridge and assign them a value of 1-10 (values can repeat)\n      { name: \"Piece of pizza\", score: 10 }, // Its more fun if it FUNNY\n      \n    ];\n  }\n\n  // Method to pick a random item from the fridge\n  grabItem() {\n    const randomIndex = Math.floor(Math.random() * this.fridgeItems.length);\n    return this.fridgeItems[randomIndex];\n  }\n\n  // Method to classify the find based on its score\n  classifyFind(score) { // Create an if -> return -> else -> return loop using youe scoring system to create an output of good, meh, bad\n    \n    }\n\n  // Reference method to start the game (Some fill in the blank)\n  ___() {\n    console.log(\"\"); // Write a response\n    const item = this.grabItem();\n    console.log(` `); //fill in the () with a phrase on the item and a reference to the item\n\n    // Get feedback based on the item's score (unchanged you only need to fix the {} ) \n    // find and fix the misisng pieces\n    const feedback = this.classifyFind(item.score);\n    console.log(`It is ${feedback} Score: ${item.score}`); \n  }\n}\n// Create an instance of the game  hint: const.\n\n\n// Start the game by calling the play method hint .play\n\n",
      "text/plain": [
       "<IPython.core.display.Javascript object>"
      ]
     },
     "metadata": {},
     "output_type": "display_data"
    }
   ],
   "source": [
    "%%js\n",
    "// Fridge Mini-Game: Enhanced with scores and quality feedback\n",
    "\n",
    "//place class + constructor here\n",
    "______ _______ {\n",
    "  _________() {\n",
    "    // Array of items in the fridge with their scores\n",
    "    this.fridgeItems = [ //Write in ten items found in a fridge and assign them a value of 1-10 (values can repeat)\n",
    "      { name: \"Piece of pizza\", score: 10 }, // Its more fun if it FUNNY\n",
    "      \n",
    "    ];\n",
    "  }\n",
    "\n",
    "  // Method to pick a random item from the fridge\n",
    "  grabItem() {\n",
    "    const randomIndex = Math.floor(Math.random() * this.fridgeItems.length);\n",
    "    return this.fridgeItems[randomIndex];\n",
    "  }\n",
    "\n",
    "  // Method to classify the find based on its score\n",
    "  classifyFind(score) { // Create an if -> return -> else -> return loop using youe scoring system to create an output of good, meh, bad\n",
    "    \n",
    "    }\n",
    "\n",
    "  // Reference method to start the game (Some fill in the blank)\n",
    "  ___() {\n",
    "    console.log(\"\"); // Write a response\n",
    "    const item = this.grabItem();\n",
    "    console.log(` `); //fill in the () with a phrase on the item and a reference to the item\n",
    "\n",
    "    // Get feedback based on the item's score (unchanged you only need to fix the {} ) \n",
    "    // find and fix the misisng pieces\n",
    "    const feedback = this.classifyFind(item.score);\n",
    "    console.log(`It is ${feedback} Score: ${item.score}`); \n",
    "  }\n",
    "}\n",
    "// Create an instance of the game  hint: const.\n",
    "_______ fridgeGame = ____ FridgeGame \n",
    "\n",
    "// Start the game by calling the play method hint .play\n",
    "__________.______()\n"
   ]
  },
  {
   "cell_type": "markdown",
   "metadata": {},
   "source": [
    "# DONT LOOK DOWN HERE\n",
    "THERE ARE ANSWERS"
   ]
  },
  {
   "cell_type": "markdown",
   "metadata": {},
   "source": [
    "WHY ARE YOU STILL DOWN HERE"
   ]
  },
  {
   "cell_type": "markdown",
   "metadata": {},
   "source": [
    "# DID YOU FINISH THE HOMEWORK"
   ]
  },
  {
   "cell_type": "markdown",
   "metadata": {},
   "source": [
    "# ARE YOU SURE \n"
   ]
  },
  {
   "cell_type": "code",
   "execution_count": 3,
   "metadata": {
    "vscode": {
     "languageId": "javascript"
    }
   },
   "outputs": [
    {
     "data": {
      "application/javascript": "class FridgeGame {\n  constructor() {\n    this.fridgeItems = [\n      { name: \"a catrton of milk\", score: 6 },\n      { name: \"half of a sandwich\", score: 9 },\n      { name: \"a jar of pickles\", score: 5 },\n      { name: \"slice of pizza\", score: 10 },\n      { name: \"an apple\", score: 8 },\n      { name: \" leftover spaghetti\", score: 4 },\n      { name: \"a mystery container\", score: 1 },\n      { name: \"a block of cheese\", score: 3 },\n      { name: \"a can of soda\", score: 7 },\n      { name: \"a stick of butter\", score: 2 }\n    ];\n  }\n\n  grabItem() {\n    const randomIndex = Math.floor(Math.random() * this.fridgeItems.length);\n    return this.fridgeItems[randomIndex];\n  }\n\n  classifyFind(score) { // Technically only need two if else if statements\n     if (score === 10) {\n      return \"did you cheat? Too bad there is -a- a person behind you who takes you and the item:\";\n    } else if (score >= 8) {\n      return \" it would be a good but the lurcking presence -a- is a person who takes the item from you and runs\";\n    } else if (score >= 4) {\n      return \"the man sees the light rom the -a- fridge go on and sees how bad of a food item you get. He takes you with him;( :\";\n    } else if (score === 1) {\n      return \" The man behind you decides to take the mystery -a- box instead of you\"\n    } else {\n      return \"the man can see -a- the light from the fridge go on and sees how bad of a food item you get. He gives you mercy lucky i guess ;( :\"\n    }\n  }\n\n    play() {\n    console.log(\"It's dark, and you feel a presence -a- in the room, you want food and go to the fridge.\");\n    const item = this.grabItem();\n    console.log(`You -a- grab ${item.name}!`);\n\n\n    const feedback = this.classifyFind(item.score);\n    console.log(`Now ${feedback} (Score: ${item.score})`);\n  }\n}\n\nconst fridgeGame = new FridgeGame();\n\nfridgeGame.play();\n",
      "text/plain": [
       "<IPython.core.display.Javascript object>"
      ]
     },
     "metadata": {},
     "output_type": "display_data"
    }
   ],
   "source": [
    "%%js\n",
    "class FridgeGame {\n",
    "  constructor() {\n",
    "    this.fridgeItems = [\n",
    "      { name: \"a catrton of milk\", score: 6 },\n",
    "      { name: \"half of a sandwich\", score: 9 },\n",
    "      { name: \"a jar of pickles\", score: 5 },\n",
    "      { name: \"slice of pizza\", score: 10 },\n",
    "      { name: \"an apple\", score: 8 },\n",
    "      { name: \" leftover spaghetti\", score: 4 },\n",
    "      { name: \"a mystery container\", score: 1 },\n",
    "      { name: \"a block of cheese\", score: 3 },\n",
    "      { name: \"a can of soda\", score: 7 },\n",
    "      { name: \"a stick of butter\", score: 2 }\n",
    "    ];\n",
    "  }\n",
    "\n",
    "  grabItem() {\n",
    "    const randomIndex = Math.floor(Math.random() * this.fridgeItems.length);\n",
    "    return this.fridgeItems[randomIndex];\n",
    "  }\n",
    "\n",
    "  classifyFind(score) { // Technically only need two if else if statements\n",
    "     if (score === 10) {\n",
    "      return \"did you cheat? Too bad there is -a- a person behind you who takes you and the item:\";\n",
    "    } else if (score >= 8) {\n",
    "      return \" it would be a good but the lurcking presence -a- is a person who takes the item from you and runs\";\n",
    "    } else if (score >= 4) {\n",
    "      return \"the man sees the light rom the -a- fridge go on and sees how bad of a food item you get. He takes you with him;( :\";\n",
    "    } else if (score === 1) {\n",
    "      return \" The man behind you decides to take the mystery -a- box instead of you\"\n",
    "    } else {\n",
    "      return \"the man can see -a- the light from the fridge go on and sees how bad of a food item you get. He gives you mercy lucky i guess ;( :\"\n",
    "    }\n",
    "  }\n",
    "\n",
    "    play() {\n",
    "    console.log(\"It's dark, and you feel a presence -a- in the room, you want food and go to the fridge.\");\n",
    "    const item = this.grabItem();\n",
    "    console.log(`You -a- grab ${item.name}!`);\n",
    "\n",
    "\n",
    "    const feedback = this.classifyFind(item.score);\n",
    "    console.log(`Now ${feedback} (Score: ${item.score})`);\n",
    "  }\n",
    "}\n",
    "\n",
    "const fridgeGame = new FridgeGame();\n",
    "\n",
    "fridgeGame.play();\n"
   ]
  },
  {
   "cell_type": "markdown",
   "metadata": {},
   "source": [
    "This code works but if you are wondering why there is a -a- in most if not all your lines if because you copied the answers and this makes your life harder."
   ]
  }
 ],
 "metadata": {
  "kernelspec": {
   "display_name": "Python 3",
   "language": "python",
   "name": "python3"
  },
  "language_info": {
   "codemirror_mode": {
    "name": "ipython",
    "version": 3
   },
   "file_extension": ".py",
   "mimetype": "text/x-python",
   "name": "python",
   "nbconvert_exporter": "python",
   "pygments_lexer": "ipython3",
   "version": "3.12.5"
  }
 },
 "nbformat": 4,
 "nbformat_minor": 2
}
