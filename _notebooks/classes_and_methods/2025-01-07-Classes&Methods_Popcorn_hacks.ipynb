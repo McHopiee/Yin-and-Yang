{
 "cells": [
  {
   "cell_type": "code",
   "execution_count": null,
   "metadata": {
    "vscode": {
     "languageId": "yaml"
    }
   },
   "outputs": [],
   "source": [
    "---\n",
    "layout: post\n",
    "title: Popcorn Hacks\n",
    "description:  Popcorn Hacks for lessons.\n",
    "type: issues \n",
    "categories: [CSSE JavaScript Fundementals]\n",
    "permalink : https://mchopiee.github.io/Yin-and-Yang/2025/01/07/Popcorn_hacks_IPYNB_2_.html\n",
    "comments: true\n",
    "---"
   ]
  },
  {
   "cell_type": "markdown",
   "metadata": {},
   "source": [
    "# JavaScript Classes and Methods - Interactive Popcorns \n",
    "\n",
    "In this notebook, you will learn about classes and methods in JavaScript. During the lesson, use these to enhance your understanding of clases and methods\n",
    "### \n",
    "- **Objectivs**: Do something - Change Later\n",
    "- **How**: ADD TEXT\n",
    "\n",
    "\n",
    "* A loop in coding is when you repeat a set of instructions until a specific condition is met.\n",
    "\n",
    "\n",
    "\n",
    "\n",
    "\n",
    "\n",
    "\n",
    " \n",
    "\n"
   ]
  },
  {
   "cell_type": "markdown",
   "metadata": {
    "vscode": {
     "languageId": "raw"
    }
   },
   "source": [
    "_______________________________________________________________________\n",
    "\n",
    "\n",
    "Exercise 1: Create a Rectangle\n",
    "\n",
    "\n",
    "_______________________________________________________________________"
   ]
  },
  {
   "cell_type": "markdown",
   "metadata": {
    "vscode": {
     "languageId": "raw"
    }
   },
   "source": [
    "\n",
    "Exercise 2: Change Dimensions\n",
    "Use the Rectangle to:\n",
    "\n",
    "Part a.) Create a rectangle with a width of 20 and height of 40.\n",
    "\n",
    "\n",
    "Part b.) Change the dimensions to make the area 200 units².\n",
    "\n",
    "_______________________________________________________________________\n",
    "\n",
    "\n"
   ]
  },
  {
   "cell_type": "markdown",
   "metadata": {
    "vscode": {
     "languageId": "raw"
    }
   },
   "source": [
    "\n",
    "Exercise 3: Experiment with Areas\n",
    "\n",
    "a.) Find all pairs of dimensions that give an area of 48 units².\n",
    "\n",
    "_______________________________________________________________________"
   ]
  },
  {
   "cell_type": "markdown",
   "metadata": {
    "vscode": {
     "languageId": "raw"
    }
   },
   "source": [
    "\n",
    "\n",
    "## Answers\n",
    "### DO NOT JUST LOOK AT ANSWERS (ATTEMPT THE CODE FIRST THEN IF YOU NEED HELP)\n",
    "\n",
    "1.) const rect = new Rectangle(10, 5);  \n",
    "console.log(rect.calcArea()); // Output: 50  \n",
    "console.log(rect.getSides()); // Output: [10, 5, 10, 5]  \n",
    "git pull --rebase origin main\n",
    "\n",
    "_______________________________________________________________________\n",
    "\n",
    "2.) const fridge = new Rectangle(20, 40);  \n",
    "console.log(fridge.calcArea()); // Output: 800  \n",
    "fridge.width = 20;  \n",
    "fridge.height = 10;  \n",
    "console.log(fridge.calcArea()); // Output: 200  \n",
    "\n",
    "_______________________________________________________________________\n",
    "\n",
    "3.) const rect1 = new Rectangle(6, 8);  \n",
    "console.log(rect1.calcArea()); // Output: 48  \n",
    "\n",
    "const rect2 = new Rectangle(12, 4);  \n",
    "console.log(rect2.calcArea()); // Output: 48  \n",
    "\n",
    "_______________________________________________________________________"
   ]
  },
  {
   "cell_type": "code",
   "execution_count": null,
   "metadata": {
    "vscode": {
     "languageId": "javascript"
    }
   },
   "outputs": [],
   "source": [
    "%%js\n",
    "\n",
    "class Rectangle {\n",
    "    // Construct the rectangle with width and height here\n",
    "    constructor(width, height) {\n",
    "        this.width = width;\n",
    "        this.height = height;\n",
    "        this.area = 0; // Initialize area\n",
    "    }\n",
    "\n",
    "    // Get the area of the rectangle here\n",
    "    getArea() {\n",
    "        return this.area;\n",
    "    }\n",
    "\n",
    "    // Calculate the area of the rectangle here\n",
    "    calcArea() {\n",
    "        this.area = this.width * this.height;\n",
    "        return this.area;\n",
    "    }\n",
    "\n",
    "    // Generate the sides of the rectangle here\n",
    "    getSides() {\n",
    "        return [this.width, this.height, this.width, this.height];\n",
    "    }\n",
    "}\n",
    "\n",
    "/*\n",
    "Uncomment this section once you have implemented the Rectangle class\n",
    "*/\n",
    "\n",
    "const fridge = new Rectangle(20, 40);\n",
    "\n",
    "console.log(fridge.calcArea()); // 800\n",
    "console.log(fridge.area); // 800\n",
    "console.log([...fridge.getSides()]); // [20, 40, 20, 40]\n",
    "\n",
    "\n",
    "```\n"
   ]
  },
  {
   "cell_type": "markdown",
   "metadata": {
    "vscode": {
     "languageId": "raw"
    }
   },
   "source": [
    "\n",
    "  <style>\n",
    "    body {\n",
    "      margin: 0;\n",
    "      padding: 0;\n",
    "      overflow: auto; /* Enable scrolling */\n",
    "      font-family: Arial, sans-serif;\n",
    "      background: #ffffff; /* Popcorn vibe! */\n",
    "    }\n",
    "\n",
    "    #startButton {\n",
    "      position: fixed;\n",
    "      bottom: 20px;\n",
    "      left: 50%;\n",
    "      transform: translateX(-50%);\n",
    "      padding: 10px 20px;\n",
    "      font-size: 18px;\n",
    "      background: #ffffff;\n",
    "      color: #000;\n",
    "      border: none;\n",
    "      border-radius: 5px;\n",
    "      cursor: pointer;\n",
    "      box-shadow: 0px 4px 6px rgba(0, 0, 0, 0.2);\n",
    "    }\n",
    "\n",
    "    #startButton:hover {\n",
    "      background: #e8a400;\n",
    "    }\n",
    "\n",
    "    .kernel {\n",
    "      position: absolute;\n",
    "      width: 20px;\n",
    "      height: 20px;\n",
    "      background: #fff;\n",
    "      border-radius: 50%;\n",
    "      box-shadow: 0 2px 5px rgba(0, 0, 0, 0.2);\n",
    "      animation: pop 1.5s ease-in-out forwards;\n",
    "    }\n",
    "\n",
    "    @keyframes pop {\n",
    "      0% {\n",
    "        transform: scale(0.5) translateY(0);\n",
    "        opacity: 1;\n",
    "      }\n",
    "      50% {\n",
    "        transform: scale(1.2) translateY(-150px);\n",
    "      }\n",
    "      100% {\n",
    "        transform: scale(1) translateY(300px);\n",
    "        opacity: 0;\n",
    "      }\n",
    "    }\n",
    "  </style>\n",
    "\n",
    "  <button id=\"startButton\">Start Popping!</button>\n",
    "\n",
    "  <script>\n",
    "    function createKernel() {\n",
    "      // Create a new popcorn kernel\n",
    "      const kernel = document.createElement(\"div\");\n",
    "      kernel.classList.add(\"kernel\");\n",
    "\n",
    "      // Randomize its position\n",
    "      kernel.style.left = Math.random() * window.innerWidth + \"px\";\n",
    "      kernel.style.top = Math.random() * (window.innerHeight / 2) + \"px\";\n",
    "\n",
    "      // Add the kernel to the body\n",
    "      document.body.appendChild(kernel);\n",
    "\n",
    "      // Remove the kernel after animation ends\n",
    "      setTimeout(() => kernel.remove(), 1500);\n",
    "    }\n",
    "\n",
    "    function startPopping() {\n",
    "      let popCount = 0;\n",
    "      const interval = setInterval(() => {\n",
    "        createKernel(); // Create a popcorn kernel\n",
    "        popCount++;\n",
    "        if (popCount > 30) clearInterval(interval); // Stop after 30 kernels\n",
    "      }, 200);\n",
    "    }\n",
    "\n",
    "    // Attach the event to the button\n",
    "    document.getElementById(\"startButton\").addEventListener(\"click\", startPopping);\n",
    "  </script>\n"
   ]
  }
 ],
 "metadata": {
  "kernelspec": {
   "display_name": "Python 3",
   "language": "python",
   "name": "python3"
  },
  "language_info": {
   "codemirror_mode": {
    "name": "ipython",
    "version": 3
   },
   "file_extension": ".py",
   "mimetype": "text/x-python",
   "name": "python",
   "nbconvert_exporter": "python",
   "pygments_lexer": "ipython3",
   "version": "3.9.6"
  }
 },
 "nbformat": 4,
 "nbformat_minor": 2
}
