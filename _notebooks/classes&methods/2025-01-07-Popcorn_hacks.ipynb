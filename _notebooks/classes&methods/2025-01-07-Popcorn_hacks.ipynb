{
 "cells": [
  {
   "cell_type": "raw",
   "metadata": {
    "vscode": {
     "languageId": "raw"
    }
   },
   "source": [
    "---\n",
    "layout: post\n",
    "title: Popcorn Hacks \n",
    "description:  Popcorn Hacks for the classes and methods lessons\n",
    "type: issues \n",
    "comments: true\n",
    "---"
   ]
  },
  {
   "cell_type": "markdown",
   "metadata": {},
   "source": [
    "## Popcorn Hacks"
   ]
  },
  {
   "cell_type": "markdown",
   "metadata": {},
   "source": [
    "import time\n",
    "import random\n",
    "\n",
    "def popcorn_timer(seconds):\n",
    "    print(\"🍿 Starting the popcorn machine... Get ready!\")\n",
    "    time.sleep(1)\n",
    "    print(\"3... 2... 1... POPPING STARTS! 🎉\\n\")\n",
    "    \n",
    "    for i in range(seconds):\n",
    "        time.sleep(1)  # Wait for 1 second between pops\n",
    "        if random.random() > 0.3:  # Randomly decide if a kernel pops\n",
    "            print(\"💥 POP! 💥\")\n",
    "        else:\n",
    "            print(\"...waiting...\")\n",
    "\n",
    "    print(\"\\n🍿 Your popcorn is ready! Enjoy your snack! 🎬\")\n",
    "\n",
    "# Run the function\n",
    "popcorn_timer(10)  # A 10-second popcorn popping simulation\n"
   ]
  }
 ],
 "metadata": {
  "language_info": {
   "name": "python"
  }
 },
 "nbformat": 4,
 "nbformat_minor": 2
}
