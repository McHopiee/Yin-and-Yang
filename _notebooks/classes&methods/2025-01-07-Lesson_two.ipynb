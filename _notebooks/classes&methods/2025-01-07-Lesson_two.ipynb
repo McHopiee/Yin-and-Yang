{
 "cells": [
  {
   "cell_type": "raw",
   "metadata": {
    "vscode": {
     "languageId": "raw"
    }
   },
   "source": [
    "---\n",
    "layout: post\n",
    "title: Lesson One - Classes\n",
    "description: Second lesson for classes and methods \n",
    "type: issues \n",
    "author: Hope Fune \n",
    "comments: true\n",
    "---"
   ]
  },
  {
   "cell_type": "markdown",
   "metadata": {},
   "source": [
    "## Lesson Two - Classes"
   ]
  },
  {
   "cell_type": "markdown",
   "metadata": {},
   "source": [
    "### What Are Classes ? \n",
    "Classes are helpful when organizing your code and work as a blueprint for creating different objects in code. Classes are created using the keyword: class. This would be followed by a name for that class.\n",
    "\n",
    "For example:"
   ]
  },
  {
   "cell_type": "code",
   "execution_count": null,
   "metadata": {
    "vscode": {
     "languageId": "javascript"
    }
   },
   "outputs": [],
   "source": [
    "class Fridge {\n",
    "    constructor(food, drink) { \n",
    "        this.food = food;\n",
    "        this.drink = drink;\n",
    "    }"
   ]
  },
  {
   "cell_type": "markdown",
   "metadata": {},
   "source": [
    "### Explanation: \n",
    "The code has created a class called 'Fridge', which contains food and drinks as seen in the parenthesis `()`. The objects inside of the class are the initial properties. But before the parenthesis, there is the word *constructor* before it. \n",
    "\n",
    "*Constructor* is a type of method used when creating an instance of an object for that class. \n",
    "\n",
    "Afterwards, there is a list of each object. The `this` in items like `this.food` and `this.drink` works similar to a placeholder. Later, this placeholder will be replaced by things like `jacksfridge` and `nicosfridge`. The body of the class, which contains the class members ( *constructor* ) and the object you're making a class of, is all going to be held inside curly brackets `{}`."
   ]
  },
  {
   "cell_type": "markdown",
   "metadata": {},
   "source": [
    "### How Do You Use Classes?\n",
    "After you have created a class that you are happy with, you are free to use the class to create objects! \n",
    "\n",
    "Example:"
   ]
  },
  {
   "cell_type": "code",
   "execution_count": null,
   "metadata": {
    "vscode": {
     "languageId": "javascript"
    }
   },
   "outputs": [],
   "source": [
    "class Fridge {\n",
    "    constructor(food, drink) { \n",
    "        this.food = food;\n",
    "        this.drink = drink;\n",
    "    }\n",
    "\n",
    "// this is the code that was created when introducing classes.\n",
    "// we will be using it for an example for the rest of this lesson, so get used to it :)\n",
    "\n",
    "\n",
    "// new objects \n",
    "const jacksFridge = new Fridge(\"eggs\", \"milk\");\n",
    "const nicosFridge = new Fridge(\"chicken\", \"redbull\");"
   ]
  }
 ],
 "metadata": {
  "kernelspec": {
   "display_name": "Python 3 (ipykernel)",
   "language": "python",
   "name": "python3"
  },
  "language_info": {
   "codemirror_mode": {
    "name": "ipython",
    "version": 3
   },
   "file_extension": ".py",
   "mimetype": "text/x-python",
   "name": "python",
   "nbconvert_exporter": "python",
   "pygments_lexer": "ipython3",
   "version": "3.10.12"
  }
 },
 "nbformat": 4,
 "nbformat_minor": 2
}
