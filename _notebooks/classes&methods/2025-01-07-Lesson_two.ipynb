{
 "cells": [
  {
   "cell_type": "raw",
   "metadata": {
    "vscode": {
     "languageId": "raw"
    }
   },
   "source": [
    "---\n",
    "layout: post\n",
    "title: Lesson One - Classes\n",
    "description: Second lesson for classes and methods \n",
    "type: issues \n",
    "author: Hope Fune \n",
    "comments: true\n",
    "---"
   ]
  },
  {
   "cell_type": "markdown",
   "metadata": {},
   "source": [
    "## Lesson Two - Classes"
   ]
  },
  {
   "cell_type": "markdown",
   "metadata": {},
   "source": [
    "### What are classes ? \n",
    "Classes are helpful when organizing your code and work as a blueprint for creating different objects in code. Classes are created using the keyword: class. This would be followed by a name for that class.\n",
    "\n",
    "For example:"
   ]
  },
  {
   "cell_type": "code",
   "execution_count": null,
   "metadata": {
    "vscode": {
     "languageId": "javascript"
    }
   },
   "outputs": [],
   "source": [
    "class Fridge {\n",
    "    constructor(food, drinks, snacks) { \n",
    "        this.food = food;\n",
    "        this.drinks = drinks;\n",
    "        this.snacks = snacks;\n",
    "    }"
   ]
  },
  {
   "cell_type": "markdown",
   "metadata": {},
   "source": [
    "### Explanation: \n",
    "The code has created a class called 'Fridge', which contains food, drinks, and snacks as seen in the parenthesis `()`. But before the parenthesis, there is the word *constructor* before it. \n",
    "\n",
    "*Constructor* is a type of method used when creating an instance of an object for that class. \n",
    "\n",
    "Afterwards, there is a list of each object. The `this` in items like `this.food` and `this.drinks` works similar to a placeholder. The body of the class, which contains the class members ( *constructor* ) and the object you're making a class of, is all going to be held inside curly brackets `{}`."
   ]
  }
 ],
 "metadata": {
  "language_info": {
   "name": "python"
  }
 },
 "nbformat": 4,
 "nbformat_minor": 2
}
