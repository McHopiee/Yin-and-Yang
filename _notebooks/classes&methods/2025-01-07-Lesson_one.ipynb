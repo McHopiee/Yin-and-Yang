{
 "cells": [
  {
   "cell_type": "raw",
   "metadata": {
    "vscode": {
     "languageId": "raw"
    }
   },
   "source": [
    "---\n",
    "layout: post\n",
    "title: Lesson Two - Methods \n",
    "description:  First lesson for classes and methods.\n",
    "type: issues \n",
    "comments: true\n",
    "---"
   ]
  },
  {
   "cell_type": "markdown",
   "metadata": {},
   "source": [
    "## Lesson 1- Methods\n",
    "By Nico Orozco\n",
    "\n",
    "### What are Methods?\n",
    "Methods are the operation completed in a code that give your objects a fucnction. In JavaScrpit code, methods are used for actions such as manipulating data, peforming task, and defining other code oppertaions. The benefits of using methods is being able to reuse the fucntions and the methods are very modular. Another benefit of using methods is that it will give a more efficent purpose to the DOM (Direct Object Model) which is very important for updating your webpage.\n",
    "\n",
    "### 1. Manipulating the Data\n",
    " \n",
    "There are two different ways to manipulate your data in JavaScript:\n",
    "#### ARRAYS & STRINGS\n",
    "\n",
    "Array methods are used to change how the array of data in the code will act, for example:\n"
   ]
  },
  {
   "cell_type": "code",
   "execution_count": null,
   "metadata": {
    "vscode": {
     "languageId": "javascript"
    }
   },
   "outputs": [],
   "source": [
    "arr = ['Mozzrella', 'provolone', 'cheddar'];\n",
    "arr.push('MontereyJack');\n",
    "\n",
    "console.log(arr); ['Mozzrella', 'provolone', 'cheddar', 'MontereyJack']"
   ]
  }
 ],
 "metadata": {
  "kernelspec": {
   "display_name": "Python 3 (ipykernel)",
   "language": "python",
   "name": "python3"
  },
  "language_info": {
   "codemirror_mode": {
    "name": "ipython",
    "version": 3
   },
   "file_extension": ".py",
   "mimetype": "text/x-python",
   "name": "python",
   "nbconvert_exporter": "python",
   "pygments_lexer": "ipython3",
   "version": "3.10.12"
  }
 },
 "nbformat": 4,
 "nbformat_minor": 2
}
