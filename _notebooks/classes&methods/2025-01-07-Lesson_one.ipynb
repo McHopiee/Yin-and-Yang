{
 "cells": [
  {
   "cell_type": "raw",
   "metadata": {
    "vscode": {
     "languageId": "raw"
    }
   },
   "source": [
    "---\n",
    "layout: post\n",
    "title: Lesson One - Classes\n",
    "description: First lesson for classes and methods \n",
    "type: issues \n",
    "comments: true\n",
    "---"
   ]
  },
  {
   "cell_type": "markdown",
   "metadata": {},
   "source": [
    "## Lesson One - Classes\n",
    "Made by Hope :)"
   ]
  },
  {
   "cell_type": "markdown",
   "metadata": {},
   "source": [
    "### What are classes ? \n",
    "Classes are helpful when organizing your code and work as a blueprint for creating different objects in code. "
   ]
  }
 ],
 "metadata": {
  "language_info": {
   "name": "python"
  }
 },
 "nbformat": 4,
 "nbformat_minor": 2
}
