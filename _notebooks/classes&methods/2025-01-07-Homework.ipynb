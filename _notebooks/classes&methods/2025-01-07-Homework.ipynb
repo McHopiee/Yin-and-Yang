{
 "cells": [
  {
   "cell_type": "raw",
   "metadata": {
    "vscode": {
     "languageId": "raw"
    }
   },
   "source": [
    "---\n",
    "layout: post\n",
    "title: Homework\n",
    "description:  Homework for classes and methods lessons.\n",
    "type: issues \n",
    "comments: true\n",
    "---"
   ]
  },
  {
   "cell_type": "markdown",
   "metadata": {},
   "source": [
    "## Homework "
   ]
  },
  {
   "cell_type": "markdown",
   "metadata": {},
   "source": [
    "# JavaScript Classes and Methods - Interactive Homework\n",
    "In this notebook, you will learn about classes and methods in JavaScript. After the lesson, complete the tasks by editing the code cells.\n",
    "\n",
    "### What are Classes and Methods?\n",
    "- **Class**: A blueprint for creating objects with properties and methods.\n",
    "- **Method**: A function inside a class that defines an object's behavior.\n",
    "\n"
   ]
  },
  {
   "cell_type": "markdown",
   "metadata": {},
   "source": [
    "## Example: Class for food\n",
    "\n",
    "Below is an example of a JavaScript class for creating different foods. The class has:\n",
    "1. A **constructor** to initialize properties (brand and model).\n",
    "2. Two **methods** (`displayInfo` and `start`) to define behaviors.\n"
   ]
  },
  {
   "cell_type": "code",
   "execution_count": 8,
   "metadata": {
    "vscode": {
     "languageId": "javascript"
    }
   },
   "outputs": [
    {
     "data": {
      "application/javascript": "// Example: A Class for Cars\nclass Car {\n  constructor(brand, model) {\n    this.brand = brand; // Property\n    this.model = model; // Property\n  }\n\n  displayInfo() {\n    console.log(`This car is a ${this.brand} ${this.model}.`);\n  }\n\n  start() {\n    console.log(`${this.brand} ${this.model} is starting...`);\n  }\n}\n\n// Create an instance of the class\nconst myCar = new Car(\"Tesla\", \"Model S\");\nmyCar.displayInfo();\nmyCar.start();\n",
      "text/plain": [
       "<IPython.core.display.Javascript object>"
      ]
     },
     "metadata": {},
     "output_type": "display_data"
    }
   ],
   "source": [
    "%%js\n",
    "// Example: A Class for Cars\n",
    "class Car {\n",
    "  constructor(brand, model) {\n",
    "    this.brand = brand; // Property\n",
    "    this.model = model; // Property\n",
    "  }\n",
    "\n",
    "  displayInfo() {\n",
    "    console.log(`This car is a ${this.brand} ${this.model}.`);\n",
    "  }\n",
    "\n",
    "  start() {\n",
    "    console.log(`${this.brand} ${this.model} is starting...`);\n",
    "  }\n",
    "}\n",
    "\n",
    "// Create an instance of the class\n",
    "const myCar = new Car(\"Tesla\", \"Model S\");\n",
    "myCar.displayInfo();\n",
    "myCar.start();\n"
   ]
  },
  {
   "cell_type": "markdown",
   "metadata": {},
   "source": [
    "<!DOCTYPE html>\n",
    "<html lang=\"en\">\n",
    "<head>\n",
    "    <meta charset=\"UTF-8\">\n",
    "    <meta name=\"viewport\" content=\"width=device-width, initial-scale=1.0\">\n",
    "    <title>Simple Quiz</title>\n",
    "    <style>\n",
    "        body {\n",
    "            font-family: Arial, sans-serif;\n",
    "            margin: 20px;\n",
    "            line-height: 1.6;\n",
    "        }\n",
    "        .question-container {\n",
    "            margin-bottom: 20px;\n",
    "        }\n",
    "        .options {\n",
    "            list-style-type: none;\n",
    "            padding: 0;\n",
    "        }\n",
    "        .options li {\n",
    "            margin: 5px 0;\n",
    "        }\n",
    "        #quiz-complete {\n",
    "            font-weight: bold;\n",
    "        }\n",
    "    </style>\n",
    "</head>\n",
    "<body>\n",
    "    <h1>Simple Quiz</h1>\n",
    "    <div id=\"quiz-container\">\n",
    "        <div id=\"question\" class=\"question-container\"></div>\n",
    "        <ul id=\"options\" class=\"options\"></ul>\n",
    "        <button id=\"next-button\" style=\"display: none;\">Next</button>\n",
    "        <p id=\"quiz-complete\" style=\"display: none;\"></p>\n",
    "    </div>\n",
    "    <script>\n",
    "        // Quiz Data\n",
    "        const quizData = [\n",
    "            {\n",
    "                question: \"What is the capital of France?\",\n",
    "                options: [\"Berlin\", \"Madrid\", \"Paris\", \"Rome\"],\n",
    "                correct: 2\n",
    "            },\n",
    "            {\n",
    "                question: \"Which programming language is used for web development?\",\n",
    "                options: [\"Python\", \"JavaScript\", \"C++\", \"Java\"],\n",
    "                correct: 1\n",
    "            },\n",
    "            {\n",
    "                question: \"What is 2 + 2?\",\n",
    "                options: [\"3\", \"4\", \"5\", \"6\"],\n",
    "                correct: 1\n",
    "            }\n",
    "        ];\n",
    "\n",
    "        // Initialize variables\n",
    "        let currentQuestion = 0;\n",
    "        let score = 0;\n",
    "\n",
    "        // DOM elements\n",
    "        const questionEl = document.getElementById(\"question\");\n",
    "        const optionsEl = document.getElementById(\"options\");\n",
    "        const nextButton = document.getElementById(\"next-button\");\n",
    "        const quizCompleteEl = document.getElementById(\"quiz-complete\");\n",
    "\n",
    "        // Display a question\n",
    "        function displayQuestion() {\n",
    "            const questionObj = quizData[currentQuestion];\n",
    "            questionEl.textContent = `Question ${currentQuestion + 1}: ${questionObj.question}`;\n",
    "            optionsEl.innerHTML = \"\"; // Clear previous options\n",
    "            questionObj.options.forEach((option, index) => {\n",
    "                const li = document.createElement(\"li\");\n",
    "                li.innerHTML = `<button onclick=\"checkAnswer(${index})\">${option}</button>`;\n",
    "                optionsEl.appendChild(li);\n",
    "            });\n",
    "        }\n",
    "\n",
    "        // Check the answer\n",
    "        function checkAnswer(selectedIndex) {\n",
    "            const questionObj = quizData[currentQuestion];\n",
    "            if (selectedIndex === questionObj.correct) {\n",
    "                alert(\"Correct!\");\n",
    "                score++;\n",
    "            } else {\n",
    "                alert(`Wrong! The correct answer was: ${questionObj.options[questionObj.correct]}`);\n",
    "            }\n",
    "            currentQuestion++;\n",
    "            if (currentQuestion < quizData.length) {\n",
    "                displayQuestion();\n",
    "            } else {\n",
    "                showResults();\n",
    "            }\n",
    "        }\n",
    "\n",
    "        // Show results\n",
    "        function showResults() {\n",
    "            questionEl.style.display = \"none\";\n",
    "            optionsEl.style.display = \"none\";\n",
    "            quizCompleteEl.style.display = \"block\";\n",
    "            quizCompleteEl.textContent = `Quiz Complete! Your final score is ${score}/${quizData.length}.`;\n",
    "        }\n",
    "\n",
    "        // Start the quiz\n",
    "        displayQuestion();\n",
    "    </script>\n",
    "</body>\n",
    "</html>\n"
   ]
  }
 ],
 "metadata": {
  "kernelspec": {
   "display_name": "Python 3",
   "language": "python",
   "name": "python3"
  },
  "language_info": {
   "codemirror_mode": {
    "name": "ipython",
    "version": 3
   },
   "file_extension": ".py",
   "mimetype": "text/x-python",
   "name": "python",
   "nbconvert_exporter": "python",
   "pygments_lexer": "ipython3",
   "version": "3.9.6"
  }
 },
 "nbformat": 4,
 "nbformat_minor": 2
}
