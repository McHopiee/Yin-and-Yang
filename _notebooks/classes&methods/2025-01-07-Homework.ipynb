{
 "cells": [
  {
   "cell_type": "raw",
   "metadata": {
    "vscode": {
     "languageId": "raw"
    }
   },
   "source": [
    "---\n",
    "layout: post\n",
    "title: Homework\n",
    "description:  Homework for classes and methods lessons.\n",
    "type: issues \n",
    "comments: true\n",
    "---"
   ]
  },
  {
   "cell_type": "markdown",
   "metadata": {},
   "source": [
    "## Homework "
   ]
  },
  {
   "cell_type": "markdown",
   "metadata": {},
   "source": [
    "# JavaScript Classes and Methods - Interactive Homework\n",
    "In this notebook, you will learn about classes and methods in JavaScript. After the lesson, complete the tasks by editing the code cells.\n",
    "\n",
    "### What are Classes and Methods?\n",
    "- **Class**: A blueprint for creating objects with properties and methods.\n",
    "- **Method**: A function inside a class that defines an object's behavior.\n",
    "\n"
   ]
  },
  {
   "cell_type": "markdown",
   "metadata": {},
   "source": [
    "## Example: Class for food\n",
    "\n",
    "Below is an example of a JavaScript class for creating different foods. The class has:\n",
    "1. A **constructor** to initialize properties (brand and model).\n",
    "2. Two **methods** (`displayInfo` and `start`) to define behaviors.\n"
   ]
  },
  {
   "cell_type": "code",
   "execution_count": null,
   "metadata": {
    "vscode": {
     "languageId": "javascript"
    }
   },
   "outputs": [],
   "source": [
    "<!DOCTYPE html>\n",
    "<html lang=\"en\">\n",
    "<head>\n",
    "    <meta charset=\"UTF-8\">\n",
    "    <meta name=\"viewport\" content=\"width=device-width, initial-scale=1.0\">\n",
    "    <title>Learn JavaScript Classes</title>\n",
    "    <style>\n",
    "        body {\n",
    "            font-family: Arial, sans-serif;\n",
    "            padding: 20px;\n",
    "        }\n",
    "        .code-block {\n",
    "            background-color: #f4f4f4;\n",
    "            border: 1px solid #ddd;\n",
    "            padding: 10px;\n",
    "            margin: 10px 0;\n",
    "            font-family: monospace;\n",
    "        }\n",
    "        .button {\n",
    "            padding: 10px 20px;\n",
    "            background-color: #007BFF;\n",
    "            color: white;\n",
    "            border: none;\n",
    "            border-radius: 5px;\n",
    "            cursor: pointer;\n",
    "        }\n",
    "        .button:hover {\n",
    "            background-color: #0056b3;\n",
    "        }\n",
    "        .output {\n",
    "            margin-top: 10px;\n",
    "            font-weight: bold;\n",
    "        }\n",
    "    </style>\n",
    "</head>\n",
    "<body>\n",
    "    <h1>Learn JavaScript Classes and Methods</h1>\n",
    "    <p>Below is an example of a simple JavaScript class. Read the code and try to answer the questions!</p>\n",
    "\n",
    "    <div class=\"code-block\">\n",
    "        class Animal {<br>\n",
    "        &nbsp;&nbsp;constructor(name, sound) {<br>\n",
    "        &nbsp;&nbsp;&nbsp;&nbsp;this.name = name;<br>\n",
    "        &nbsp;&nbsp;&nbsp;&nbsp;this.sound = sound;<br>\n",
    "        &nbsp;&nbsp;}<br><br>\n",
    "        &nbsp;&nbsp;makeSound() {<br>\n",
    "        &nbsp;&nbsp;&nbsp;&nbsp;return `${this.name} says ${this.sound}`;<br>\n",
    "        &nbsp;&nbsp;}<br>\n",
    "        }\n",
    "    </div>\n",
    "\n",
    "    <p>Question: What does the <code>makeSound()</code> method do?</p>\n",
    "\n",
    "    <button class=\"button\" onclick=\"checkAnswer('A')\">A: Returns the name of the class</button>\n",
    "    <button class=\"button\" onclick=\"checkAnswer('B')\">B: Returns a string with the animal's name and sound</button>\n",
    "    <button class=\"button\" onclick=\"checkAnswer('C')\">C: Initializes the class properties</button>\n",
    "\n",
    "    <div id=\"feedback\" class=\"output\"></div>\n",
    "\n",
    "    <script>\n",
    "        function checkAnswer(answer) {\n",
    "            const feedback = document.getElementById('feedback');\n",
    "\n",
    "            if (answer === 'B') {\n",
    "                feedback.textContent = 'Correct! The makeSound() method returns a string with the animal\\'s name and sound.';\n",
    "                feedback.style.color = 'green';\n",
    "            } else {\n",
    "                feedback.textContent = 'Try again! That\\'s not quite right.';\n",
    "                feedback.style.color = 'red';\n",
    "            }\n",
    "        }\n",
    "    </script>\n",
    "</body>\n",
    "</html>\n"
   ]
  }
 ],
 "metadata": {
  "kernelspec": {
   "display_name": "Python 3",
   "language": "python",
   "name": "python3"
  },
  "language_info": {
   "codemirror_mode": {
    "name": "ipython",
    "version": 3
   },
   "file_extension": ".py",
   "mimetype": "text/x-python",
   "name": "python",
   "nbconvert_exporter": "python",
   "pygments_lexer": "ipython3",
   "version": "3.13.1"
  }
 },
 "nbformat": 4,
 "nbformat_minor": 2
}
