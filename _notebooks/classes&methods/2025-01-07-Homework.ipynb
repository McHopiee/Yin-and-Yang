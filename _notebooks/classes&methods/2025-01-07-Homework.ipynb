{
 "cells": [
  {
   "cell_type": "raw",
   "metadata": {
    "vscode": {
     "languageId": "raw"
    }
   },
   "source": [
    "---\n",
    "layout: post\n",
    "title: Homework\n",
    "description:  Homework for classes and methods lessons.\n",
    "type: issues \n",
    "comments: true\n",
    "---"
   ]
  },
  {
   "cell_type": "markdown",
   "metadata": {},
   "source": [
    "## Homework "
   ]
  },
  {
   "cell_type": "markdown",
   "metadata": {},
   "source": [
    "# JavaScript Classes and Methods - Interactive Homework\n",
    "In this notebook, you will learn about classes and methods in JavaScript. After the lesson, complete the tasks by editing the code cells.\n",
    "\n",
    "### What are Classes and Methods?\n",
    "- **Class**: A blueprint for creating objects with properties and methods.\n",
    "- **Method**: A function inside a class that defines an object's behavior.\n",
    "\n"
   ]
  },
  {
   "cell_type": "markdown",
   "metadata": {},
   "source": [
    "## Example: Class for food\n",
    "\n",
    "Below is an example of a JavaScript class for creating different foods. The class has:\n",
    "1. A **constructor** to initialize properties (brand and model).\n",
    "2. Two **methods** (`displayInfo` and `start`) to define behaviors.\n"
   ]
  },
  {
   "cell_type": "code",
   "execution_count": 8,
   "metadata": {
    "vscode": {
     "languageId": "javascript"
    }
   },
   "outputs": [
    {
     "data": {
      "application/javascript": "// Example: A Class for Cars\nclass Car {\n  constructor(brand, model) {\n    this.brand = brand; // Property\n    this.model = model; // Property\n  }\n\n  displayInfo() {\n    console.log(`This car is a ${this.brand} ${this.model}.`);\n  }\n\n  start() {\n    console.log(`${this.brand} ${this.model} is starting...`);\n  }\n}\n\n// Create an instance of the class\nconst myCar = new Car(\"Tesla\", \"Model S\");\nmyCar.displayInfo();\nmyCar.start();\n",
      "text/plain": [
       "<IPython.core.display.Javascript object>"
      ]
     },
     "metadata": {},
     "output_type": "display_data"
    }
   ],
   "source": [
    "%%js\n",
    "// Example: A Class for Cars\n",
    "class Car {\n",
    "  constructor(brand, model) {\n",
    "    this.brand = brand; // Property\n",
    "    this.model = model; // Property\n",
    "  }\n",
    "\n",
    "  displayInfo() {\n",
    "    console.log(`This car is a ${this.brand} ${this.model}.`);\n",
    "  }\n",
    "\n",
    "  start() {\n",
    "    console.log(`${this.brand} ${this.model} is starting...`);\n",
    "  }\n",
    "}\n",
    "\n",
    "// Create an instance of the class\n",
    "const myCar = new Car(\"Tesla\", \"Model S\");\n",
    "myCar.displayInfo();\n",
    "myCar.start();\n"
   ]
  },
  {
   "cell_type": "code",
   "execution_count": 10,
   "metadata": {
    "vscode": {
     "languageId": "javascript"
    }
   },
   "outputs": [
    {
     "data": {
      "application/javascript": "// Quiz Data: Easy to edit questions and answers\nconst quizData = [\n    {\n        question: \"What is the capital of France?\",\n        options: [\"Berlin\", \"Madrid\", \"Paris\", \"Rome\"],\n        correct: 2 // Index of the correct answer\n    },\n    {\n        question: \"Which programming language is used for web development?\",\n        options: [\"Python\", \"JavaScript\", \"C++\", \"Java\"],\n        correct: 1\n    },\n    {\n        question: \"What is 2 + 2?\",\n        options: [\"3\", \"4\", \"5\", \"6\"],\n        correct: 1\n    }\n];\n\n// Initialize variables\nlet currentQuestion = 0;\nlet score = 0;\n\n// Function to display a question\nfunction displayQuestion() {\n    if (currentQuestion < quizData.length) {\n        const questionObj = quizData[currentQuestion];\n        console.log(`Question ${currentQuestion + 1}: ${questionObj.question}`);\n        questionObj.options.forEach((option, index) => {\n            console.log(`${index + 1}. ${option}`);\n        });\n    } else {\n        console.log(`Quiz Complete! Your score: ${score}/${quizData.length}`);\n    }\n}\n\n// Function to check the answer\nfunction checkAnswer(answer) {\n    const questionObj = quizData[currentQuestion];\n    if (answer - 1 === questionObj.correct) {\n        console.log(\"Correct!\");\n        score++;\n    } else {\n        console.log(\n            `Wrong! The correct answer was: ${questionObj.options[questionObj.correct]}`\n        );\n    }\n    currentQuestion++;\n    if (currentQuestion < quizData.length) {\n        displayQuestion();\n    } else {\n        console.log(`Quiz Complete! Your final score: ${score}/${quizData.length}`);\n    }\n}\n\n// Run the quiz\nconsole.log(\"Welcome to the Quiz!\");\ndisplayQuestion();\n\n// Example of user interaction in a Jupyter notebook\n// Replace `userInput` with input from the user\n// Example: let userInput = 2;\n",
      "text/plain": [
       "<IPython.core.display.Javascript object>"
      ]
     },
     "metadata": {},
     "output_type": "display_data"
    }
   ],
   "source": [
    "%%js\n",
    "// Quiz Data: Easy to edit questions and answers\n",
    "const quizData = [\n",
    "    {\n",
    "        question: \"What is the capital of France?\",\n",
    "        options: [\"Berlin\", \"Madrid\", \"Paris\", \"Rome\"],\n",
    "        correct: 2 // Index of the correct answer\n",
    "    },\n",
    "    {\n",
    "        question: \"Which programming language is used for web development?\",\n",
    "        options: [\"Python\", \"JavaScript\", \"C++\", \"Java\"],\n",
    "        correct: 1\n",
    "    },\n",
    "    {\n",
    "        question: \"What is 2 + 2?\",\n",
    "        options: [\"3\", \"4\", \"5\", \"6\"],\n",
    "        correct: 1\n",
    "    }\n",
    "];\n",
    "\n",
    "// Initialize variables\n",
    "let currentQuestion = 0;\n",
    "let score = 0;\n",
    "\n",
    "// Function to display a question\n",
    "function displayQuestion() {\n",
    "    if (currentQuestion < quizData.length) {\n",
    "        const questionObj = quizData[currentQuestion];\n",
    "        console.log(`Question ${currentQuestion + 1}: ${questionObj.question}`);\n",
    "        questionObj.options.forEach((option, index) => {\n",
    "            console.log(`${index + 1}. ${option}`);\n",
    "        });\n",
    "    } else {\n",
    "        console.log(`Quiz Complete! Your score: ${score}/${quizData.length}`);\n",
    "    }\n",
    "}\n",
    "\n",
    "// Function to check the answer\n",
    "function checkAnswer(answer) {\n",
    "    const questionObj = quizData[currentQuestion];\n",
    "    if (answer - 1 === questionObj.correct) {\n",
    "        console.log(\"Correct!\");\n",
    "        score++;\n",
    "    } else {\n",
    "        console.log(\n",
    "            `Wrong! The correct answer was: ${questionObj.options[questionObj.correct]}`\n",
    "        );\n",
    "    }\n",
    "    currentQuestion++;\n",
    "    if (currentQuestion < quizData.length) {\n",
    "        displayQuestion();\n",
    "    } else {\n",
    "        console.log(`Quiz Complete! Your final score: ${score}/${quizData.length}`);\n",
    "    }\n",
    "}\n",
    "\n",
    "// Run the quiz\n",
    "console.log(\"Welcome to the Quiz!\");\n",
    "displayQuestion();\n",
    "\n",
    "// Example of user interaction in a Jupyter notebook\n",
    "// Replace `userInput` with input from the user\n",
    "// Example: let userInput = 2;\n"
   ]
  }
 ],
 "metadata": {
  "kernelspec": {
   "display_name": "Python 3",
   "language": "python",
   "name": "python3"
  },
  "language_info": {
   "codemirror_mode": {
    "name": "ipython",
    "version": 3
   },
   "file_extension": ".py",
   "mimetype": "text/x-python",
   "name": "python",
   "nbconvert_exporter": "python",
   "pygments_lexer": "ipython3",
   "version": "3.9.6"
  }
 },
 "nbformat": 4,
 "nbformat_minor": 2
}
